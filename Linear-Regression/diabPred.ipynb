{
 "cells": [
  {
   "cell_type": "code",
   "execution_count": 6,
   "metadata": {},
   "outputs": [],
   "source": [
    "import numpy as np \n",
    "import sklearn\n",
    "from sklearn import datasets, linear_model\n",
    "from sklearn.model_selection import train_test_split\n",
    "from sklearn.linear_model import LinearRegression"
   ]
  },
  {
   "cell_type": "code",
   "execution_count": 7,
   "metadata": {},
   "outputs": [
    {
     "name": "stdout",
     "output_type": "stream",
     "text": [
      "['age', 'sex', 'bmi', 'bp', 's1', 's2', 's3', 's4', 's5', 's6']\n"
     ]
    }
   ],
   "source": [
    "diabetes=datasets.load_diabetes()\n",
    "print(diabetes.feature_names)"
   ]
  },
  {
   "cell_type": "code",
   "execution_count": 8,
   "metadata": {},
   "outputs": [
    {
     "data": {
      "text/plain": [
       "(111, 10)"
      ]
     },
     "execution_count": 8,
     "metadata": {},
     "output_type": "execute_result"
    }
   ],
   "source": [
    "X_train,X_test,Y_train,Y_test=train_test_split(diabetes.data,diabetes.target,test_size=0.25)\n",
    "X_test.shape"
   ]
  },
  {
   "cell_type": "code",
   "execution_count": 18,
   "metadata": {},
   "outputs": [
    {
     "data": {
      "text/plain": [
       "154.93089040548355"
      ]
     },
     "execution_count": 18,
     "metadata": {},
     "output_type": "execute_result"
    }
   ],
   "source": [
    "LRmodel=LinearRegression()\n",
    "LRmodel.fit(X_train,Y_train)\n",
    "LRmodel.intercept_"
   ]
  },
  {
   "cell_type": "code",
   "execution_count": 20,
   "metadata": {},
   "outputs": [
    {
     "data": {
      "text/plain": [
       "array([  -54.00654015,  -201.31588322,   527.71374631,   286.6885241 ,\n",
       "       -1220.70445478,   897.87370752,   269.2197773 ,   101.86065041,\n",
       "        1036.72881366,    97.8063854 ])"
      ]
     },
     "execution_count": 20,
     "metadata": {},
     "output_type": "execute_result"
    }
   ],
   "source": [
    "LRmodel.coef_"
   ]
  },
  {
   "cell_type": "code",
   "execution_count": 16,
   "metadata": {},
   "outputs": [
    {
     "data": {
      "text/plain": [
       "array([138.61668773, 125.38297   , 239.06501815, 268.95953242,\n",
       "        79.88919521,  79.71489291, 106.36403979,  47.91328583,\n",
       "       204.02626398, 133.76514095, 226.19767214, 199.68875465,\n",
       "       102.11143268,  77.88692698, 204.58599133, 167.10638235,\n",
       "        62.91812523, 152.18081303,  74.71169645, 152.82093667,\n",
       "       158.26153022, 136.48740066, 173.11639448, 161.6379947 ,\n",
       "       155.59216949,  96.75009721, 113.75354224, 151.32681011,\n",
       "       159.92106525, 200.2492771 , 248.34035012, 126.1219594 ,\n",
       "       129.89105409, 228.11086158, 265.99832202, 182.35441786,\n",
       "       109.3720747 , 133.2773781 ,  40.86046806, 163.7582462 ,\n",
       "        99.10490513, 109.77516972,  81.58462827, 120.26881282,\n",
       "        86.33435223, 107.55671876, 137.25804685, 109.4313306 ,\n",
       "       170.23015143,  83.2731811 , 161.7189148 , 127.38175792,\n",
       "        75.91477059, 215.68942364, 117.06802817,  68.73566688,\n",
       "       175.83929244, 149.52722129, 114.94209785, 103.62219284,\n",
       "        89.43111696, 234.74258348, 187.12460366, 197.34620457,\n",
       "        88.67866487, 174.55584807, 267.39554089, 196.33671576,\n",
       "       121.54120126, 100.13039875,  74.74030944,  76.22536974,\n",
       "       116.65699704, 115.39872603, 186.66957041, 126.25089075,\n",
       "       100.3372358 , 166.97971299, 248.82640708, 220.09742599,\n",
       "       212.7195436 ,  18.54954999, 230.53583683, 111.41158975,\n",
       "       192.5474948 , 143.77894384, 226.61115423, 176.40646245,\n",
       "       111.27518625, 169.84040157, 177.25629643, 190.33183897,\n",
       "       179.9279476 , 124.38048472, 267.41768293,  67.83239007,\n",
       "       198.76829799, 158.23230349, 101.3685934 ,  85.32869449,\n",
       "       162.60699228, 111.43011147, 188.51819394, 248.04134337,\n",
       "       130.77947196,  60.90338348, 195.95015726,  31.93674756,\n",
       "        70.77843765, 150.71335368, 263.46531424])"
      ]
     },
     "execution_count": 16,
     "metadata": {},
     "output_type": "execute_result"
    }
   ],
   "source": [
    "Y_pred=LRmodel.predict(X_test)\n",
    "Y_pred"
   ]
  },
  {
   "cell_type": "code",
   "execution_count": 17,
   "metadata": {},
   "outputs": [
    {
     "data": {
      "text/plain": [
       "0.37783767830079373"
      ]
     },
     "execution_count": 17,
     "metadata": {},
     "output_type": "execute_result"
    }
   ],
   "source": [
    "Score=LRmodel.score(X_test,Y_test)\n",
    "Score"
   ]
  },
  {
   "cell_type": "code",
   "execution_count": null,
   "metadata": {},
   "outputs": [],
   "source": []
  }
 ],
 "metadata": {
  "kernelspec": {
   "display_name": "Python 3",
   "language": "python",
   "name": "python3"
  },
  "language_info": {
   "codemirror_mode": {
    "name": "ipython",
    "version": 3
   },
   "file_extension": ".py",
   "mimetype": "text/x-python",
   "name": "python",
   "nbconvert_exporter": "python",
   "pygments_lexer": "ipython3",
   "version": "3.8.3"
  }
 },
 "nbformat": 4,
 "nbformat_minor": 4
}
